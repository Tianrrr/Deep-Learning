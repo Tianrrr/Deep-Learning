{
 "cells": [
  {
   "cell_type": "markdown",
   "metadata": {},
   "source": [
    "# Pytorch Lightning Introduction\n",
    "\n",
    "Welcome to the introduction to [`PyTorchLightning`](https://www.pytorchlightning.ai/). PyTorch Lightning is a wrapper for PyTorch that is focused towards building neural networks model quickly by removing the boilerplate code. It also extends the functionality of PyTorch, for example, with model Callbacks and automatic porting to GPU to accelerate computations.\n",
    "\n",
    "In its essence, pytorch lightning provides a controlled setup where you are forced to in its specific partly automated library setup, but are able to customize/de-automatate each process if you so desire. You can both rely on a variety of already implemented functionalities and the fact that your code is by definition structured clearly, but at the cost of having to delve into their code structure and figuring out which functions to use.\n",
    "\n",
    "Our suggestion is to try it out. If you like it, cool, otherwise you can just stick to pytorch and build up your own library of functions you will use throughout your Deep Learning journey.\n",
    "\n",
    "Let's get started by installing PyTorch Lightning."
   ]
  },
  {
   "cell_type": "markdown",
   "metadata": {},
   "source": [
    "## (Optional) Mount folder in Colab\n",
    "\n",
    "Uncomment thefollowing cell to mount your gdrive if you are using the notebook in google colab:"
   ]
  },
  {
   "cell_type": "code",
   "execution_count": null,
   "metadata": {},
   "outputs": [],
   "source": [
    "\"\"\"\n",
    "from google.colab import drive\n",
    "import os\n",
    "\n",
    "gdrive_path='/content/gdrive/MyDrive/i2dl/exercise_07'\n",
    "\n",
    "# This will mount your google drive under 'MyDrive'\n",
    "drive.mount('/content/gdrive', force_remount=True)\n",
    "# In order to access the files in this notebook we have to navigate to the correct folder\n",
    "os.chdir(gdrive_path)\n",
    "# Check manually if all files are present\n",
    "print(sorted(os.listdir()))\n",
    "\"\"\""
   ]
  },
  {
   "cell_type": "code",
   "execution_count": null,
   "metadata": {},
   "outputs": [],
   "source": [
    "# Optional: install correct libraries in google colab\n",
    "# !python -m pip install torch==1.11.0+cu113 torchvision==0.12.0+cu113 -f https://download.pytorch.org/whl/torch_stable.html\n",
    "# !python -m pip install tensorboard==2.9.1"
   ]
  },
  {
   "cell_type": "markdown",
   "metadata": {},
   "source": [
    "### Installing Pytorch Lightning"
   ]
  },
  {
   "cell_type": "code",
   "execution_count": 4,
   "metadata": {},
   "outputs": [
    {
     "name": "stdout",
     "output_type": "stream",
     "text": [
      "The autoreload extension is already loaded. To reload it, use:\n",
      "  %reload_ext autoreload\n"
     ]
    }
   ],
   "source": [
    "# For automatic file reloading as usual\n",
    "%load_ext autoreload\n",
    "%autoreload 2\n",
    "%matplotlib inline"
   ]
  },
  {
   "cell_type": "code",
   "execution_count": 5,
   "metadata": {},
   "outputs": [],
   "source": [
    "import sys\n",
    "\n",
    "# For google colab\n",
    "# !python -m pip install pytorch-lightning==1.6.0 > /dev/null\n",
    "\n",
    "# For anaconda/regular python\n",
    "# !{sys.executable} -m pip install --ignore-installed pytorch-lightning==1.6.0"
   ]
  },
  {
   "cell_type": "code",
   "execution_count": 6,
   "metadata": {},
   "outputs": [
    {
     "name": "stdout",
     "output_type": "stream",
     "text": [
      "Lightning version: 1.6.0\n",
      "Tensorboard version: 2.9.1\n",
      "PyTorch version Installed: 1.11.0\n",
      "Torchvision version Installed: 0.12.0\n",
      "\n"
     ]
    }
   ],
   "source": [
    "import pytorch_lightning as pl\n",
    "print(f\"Lightning version: {pl.__version__}\")\n",
    "if not pl.__version__.startswith(\"1.6\"):\n",
    "    print(\"You are using another version of pytorch lightning. We expect pytorch lightning 1.6.0. You can continue with your version but it\"\n",
    "          \" might cause dependency and compatibility issues.\")\n",
    "\n",
    "import tensorboard\n",
    "import torch\n",
    "import torchvision\n",
    "print(f\"Tensorboard version: {tensorboard.__version__}\")\n",
    "if not tensorboard.__version__.startswith(\"2.9.1\"):\n",
    "    print(\"You are using an another version of Tensorboard. We expect Tensorboard 2.9.1 You may continue using your version but it\"\n",
    "          \" might cause dependency and compatibility issues.\")\n",
    "print(f\"PyTorch version Installed: {torch.__version__}\\nTorchvision version Installed: {torchvision.__version__}\\n\")\n",
    "if not torch.__version__.startswith(\"1.11\"):\n",
    "    print(\"you are using an another version of PyTorch. We expect PyTorch 1.11.0. You may continue using your version but it\"\n",
    "          \" might cause dependency and compatibility issues.\")\n",
    "if not torchvision.__version__.startswith(\"0.12\"):\n",
    "    print(\"you are using an another version of torchvision. We expect torchvision 0.12. You can continue with your version but it\"\n",
    "          \" might cause dependency and compatibility issues.\")"
   ]
  },
  {
   "cell_type": "markdown",
   "metadata": {},
   "source": [
    "# 1. Idea behind PyTorch Lightning\n",
    "\n",
    "Codes in a Deep learning project consists of three main categories:\n",
    "\n",
    "1. **Research code**   \n",
    "    This is the exciting part of the experiment where you configure the model architecture and try out different optimizers and target task. This is managed by the `LightningModule` of PyTorch Lightning.\n",
    "    \n",
    "2. **Engineering code**  \n",
    "    This is the same set of code that remain the same for all deep learning projects.Recall the training block of previous notebooks where we loop through the epochs and mini-batches. The `Trainer` class of PyTorch Lightning takes care of this part of code.\n",
    "    \n",
    "3. **Non-essential code**\n",
    "    It is very important that we log our training metrics and organize different training runs to have purposeful experimentation of models. The `Callbacks` class PyTorch Lightning helps us with this section. \n",
    "\n",
    "Let's look at each of these modules in detail.\n",
    "\n",
    "1. **LightningModules** contain all model related code. This is the part where we are working on when creating a new project. The idea is to have all important code in one module, e.g., the model's architecture and the evaluation of training and validation metrics. This provides a better overview as repeated elements, such as the training procedure, are not stored in the code that we work on. The lightning module also handles the calls `.to(device)` or `.train()` and `.eval()`. Hence, there is no need anymore to switch between the cpu and gpu and to take care of the model's mode as this is automated by the LightningModule. The framework also enables easy parallel computation on multiple gpus. \n",
    "\n",
    "2. **Trainer** contains all code needed for training our neural networks that doesn't change for each project (\"one size fits all\"). Usually, we don't touch the code automated by this class. The arguments that are specific for one training such as learning rate and batch size are provided as initialization arguments for the LightningModule.\n",
    "\n",
    "3. **Callbacks** automate all parts needed for logging hyperparameters or training results such as the tensorboard logger. Logging becomes very important for research later since the results of experiments need to be reproducible.\n",
    "\n",
    "All in all, PyTorch is a framework that handles all (annoying) \"engineering\" stuff for you such that you have more time for exciting research and scientific coding. This also results in the advantage that automated parts are guaranteed to be bug-free. Hence, you can't include a bug in a part of your code that is often used but not often checked. "
   ]
  },
  {
   "cell_type": "markdown",
   "metadata": {},
   "source": [
    "# 2. Overview of the PyTorch Lightning code"
   ]
  },
  {
   "cell_type": "markdown",
   "metadata": {},
   "source": [
    "Research relevant code goes into the `LightningModule`. The advantage is that we have all the model building, training & validation steps within a single class. These are the components that usually change based on the projects and tasks."
   ]
  },
  {
   "cell_type": "markdown",
   "metadata": {},
   "source": [
    "![tensorBoard Interface](./images/pl_quick_start_full_compressed.gif)"
   ]
  },
  {
   "cell_type": "markdown",
   "metadata": {},
   "source": [
    "The remaining code is automated by the `Trainer` class which takes care of the tasks of our mechanical training loops components such as iterating through the minibatches and gradient updating steps."
   ]
  },
  {
   "cell_type": "markdown",
   "metadata": {},
   "source": [
    "![alt text](https://miro.medium.com/max/700/1*b81_j__xv8M0Bb6nFTXbAA.png)"
   ]
  },
  {
   "cell_type": "markdown",
   "metadata": {},
   "source": [
    "We could already see how much more readable and concise our code is, after being transformed by PyTorch Lightning.\n",
    "\n",
    "Let us now train a neural network model with PyTorch Lightning."
   ]
  },
  {
   "cell_type": "markdown",
   "metadata": {},
   "source": [
    "# 4. Training with PyTorch Lightning\n",
    "\n",
    "We will build a two-layer neural network to train on the the [`Fashion-MNIST`](https://research.zalando.com/welcome/mission/research-projects/fashion-mnist/) dataset for this notebook. \n",
    "\n",
    "## 4.1 Define A LightningModule\n",
    "\n",
    "We define our network as an instance of `pl.LightningModule` which replaces our `PyTorch` network based on the class `nn.Module`. Additionally, it contains all the relevant parts that are used for training and evaluating different models on various tasks.  \n",
    "\n",
    "Let's have a look at the implementation of `TwoLayerNet` in `exercise_code.lightning_models`."
   ]
  },
  {
   "cell_type": "markdown",
   "metadata": {},
   "source": [
    "The `__init__()` and `forward()` function defining the forward  pass remain the same. Hence, we can just copy the code from the `nn.Module`."
   ]
  },
  {
   "cell_type": "markdown",
   "metadata": {},
   "source": [
    "```python\n",
    "class TwoLayerNet(pl.LightningModule):\n",
    "    def __init__(self, hparams, input_size=1 * 28 * 28, hidden_size=512, num_classes=10):\n",
    "        super().__init__()\n",
    "        self.save_hyperparameters(hparams)\n",
    "\n",
    "        self.model = nn.Sequential(\n",
    "            nn.Linear(input_size, hidden_size),\n",
    "            nn.Sigmoid(),\n",
    "            nn.Linear(hidden_size, num_classes),\n",
    "        )\n",
    "\n",
    "    def forward(self, x):\n",
    "        # flatten the image  before sending as input to the model\n",
    "        N, _, _, _ = x.shape\n",
    "        x = x.view(N, -1)\n",
    "\n",
    "        x = self.model(x)\n",
    "\n",
    "        return x\n",
    "```"
   ]
  },
  {
   "cell_type": "markdown",
   "metadata": {},
   "source": [
    "We will now define the training  and validation steps since they also vary with different tasks and projects. Consequently, it is useful to integrate these parts into our instance of `LightningModule`. Validation loss is returned for each validation mini-batch and averaged at the end of the epoch."
   ]
  },
  {
   "cell_type": "markdown",
   "metadata": {},
   "source": [
    "```python\n",
    "    def training_step(self, batch, batch_idx):\n",
    "        images, targets = batch\n",
    "\n",
    "        # Perform a forward pass on the network with inputs\n",
    "        out = self.forward(images)\n",
    "\n",
    "        # calculate the loss with the network predictions and ground truth targets\n",
    "        loss = F.cross_entropy(out, targets)\n",
    "\n",
    "        # Find the predicted class from probabilities of the image belonging to each of the classes\n",
    "        # from the network output\n",
    "        _, preds = torch.max(out, 1)\n",
    "\n",
    "        # Calculate the accuracy of predictions\n",
    "        acc = preds.eq(targets).sum().float() / targets.size(0)\n",
    "\n",
    "        # Log the accuracy and loss values to the tensorboard\n",
    "        self.log('loss', loss)\n",
    "        self.log('acc', acc)\n",
    "\n",
    "        return {'loss': loss}\n",
    "\n",
    "    def validation_step(self, batch, batch_idx):\n",
    "        images, targets = batch\n",
    "\n",
    "        # Perform a forward pass on the network with inputs\n",
    "        out = self.forward(images)\n",
    "\n",
    "        # calculate the loss with the network predictions and ground truth targets\n",
    "        loss = F.cross_entropy(out, targets)\n",
    "\n",
    "        # Find the predicted class from probabilities of the image belonging to each of the classes\n",
    "        # from the network output\n",
    "        _, preds = torch.max(out, 1)\n",
    "\n",
    "        # Calculate the accuracy of predictions\n",
    "        acc = preds.eq(targets).sum().float() / targets.size(0)\n",
    "\n",
    "        # Visualise the predictions  of the model\n",
    "        if batch_idx == 0:\n",
    "            self.visualize_predictions(images, out.detach(), targets)\n",
    "\n",
    "        return {'val_loss': loss, 'val_acc': acc}\n",
    "\n",
    "    def validation_epoch_end(self, outputs):\n",
    "\n",
    "        # Average the loss over the entire validation data from it's mini-batches\n",
    "        avg_loss = torch.stack([x['val_loss'] for x in outputs]).mean()\n",
    "        avg_acc = torch.stack([x['val_acc'] for x in outputs]).mean()\n",
    "\n",
    "        # Log the validation accuracy and loss values to the tensorboard\n",
    "        self.log('val_loss', avg_loss)\n",
    "        self.log('val_acc', avg_acc)\n",
    "```"
   ]
  },
  {
   "cell_type": "markdown",
   "metadata": {},
   "source": [
    "The last step missing in our `LightningModule` is the optimizer. This method needs to be defined in every `LightningModule`."
   ]
  },
  {
   "cell_type": "markdown",
   "metadata": {},
   "source": [
    "```python\n",
    "    def configure_optimizers(self):\n",
    "        optim = torch.optim.SGD(self.model.parameters(), self.hparams[\"learning_rate\"], momentum=0.9)\n",
    "\n",
    "        return optim\n",
    "```"
   ]
  },
  {
   "cell_type": "markdown",
   "metadata": {},
   "source": [
    "Now that we have set up the model and the training steps, we will now establish the data pipeline. PyTorch Lightning provides the `LightningDataModule` for setting up the dataloaders.\n",
    "\n",
    "Let's have a look at the implementation of `FashionMNISTDataModule` in `exercise_code.data_class`.\n",
    "\n",
    "The `prepare_data()` function intends to set up the dataset and the related transforms for it. As previously, we download the `FashionMNIST` dataset using `torchvision` and split the total training data into a training and validation set for tuning hyperparameters."
   ]
  },
  {
   "cell_type": "markdown",
   "metadata": {},
   "source": [
    "```python\n",
    "class FashionMNISTDataModule(pl.LightningDataModule):\n",
    "\n",
    "    def __init__(self, batch_size=4):\n",
    "        super().__init__()\n",
    "        self.batch_size = batch_size\n",
    "\n",
    "    def prepare_data(self):\n",
    "\n",
    "        # Define the transform\n",
    "        transform = transforms.Compose([transforms.ToTensor(),\n",
    "                                        transforms.Normalize((0.5,), (0.5,))])\n",
    "\n",
    "        # Download the Fashion-MNIST dataset\n",
    "        fashion_mnist_train_val = torchvision.datasets.FashionMNIST(root='../datasets', train=True,\n",
    "                                                                   download=True, transform=transform)\n",
    "\n",
    "        self.fashion_mnist_test = torchvision.datasets.FashionMNIST(root='../datasets', train=False,\n",
    "                                                                 download=True, transform=transform)\n",
    "\n",
    "        # Apply the Transforms\n",
    "        transform = transforms.Compose([transforms.ToTensor(),\n",
    "                                        transforms.Normalize((0.5,), (0.5,))])\n",
    "\n",
    "        # Perform the training and validation split\n",
    "        self.train_dataset, self.val_dataset = random_split(\n",
    "            fashion_mnist_train_val, [50000, 10000])\n",
    "```"
   ]
  },
  {
   "cell_type": "markdown",
   "metadata": {},
   "source": [
    "We shall now define `Dataloaders` for each of the data-splits. These data loaders can be directly called during model training!"
   ]
  },
  {
   "cell_type": "markdown",
   "metadata": {},
   "source": [
    "```python\n",
    "\n",
    "    def train_dataloader(self):\n",
    "        return DataLoader(self.train_dataset, batch_size=self.batch_size)\n",
    "\n",
    "    def val_dataloader(self):\n",
    "        return DataLoader(self.val_dataset, batch_size=self.batch_size)\n",
    "\n",
    "    def test_dataloader(self):\n",
    "        return DataLoader(self.fashion_mnist_test, batch_size=self.batch_size)\n",
    "\n",
    "```"
   ]
  },
  {
   "cell_type": "markdown",
   "metadata": {},
   "source": [
    "You can notice now that most of the code of these steps can be directly copied from a Vanilla PyTorch code. Lightning just rearranges them. This marks the end of the research part of the code.\n",
    "\n",
    "Let's see now how the `Trainer` class works:"
   ]
  },
  {
   "cell_type": "markdown",
   "metadata": {},
   "source": [
    "##  4.2 Fitting the model with a Trainer"
   ]
  },
  {
   "cell_type": "markdown",
   "metadata": {},
   "source": [
    "We will initialize the model and the data  with a set of hyperparameters given in the dictionary `hparams`.\n"
   ]
  },
  {
   "cell_type": "code",
   "execution_count": 1,
   "metadata": {},
   "outputs": [
    {
     "ename": "AttributeError",
     "evalue": "Missing attribute \"input_size\"",
     "output_type": "error",
     "traceback": [
      "\u001b[0;31m---------------------------------------------------------------------------\u001b[0m",
      "\u001b[0;31mKeyError\u001b[0m                                  Traceback (most recent call last)",
      "File \u001b[0;32m~/opt/anaconda3/envs/i2dl/lib/python3.10/site-packages/pytorch_lightning/utilities/parsing.py:288\u001b[0m, in \u001b[0;36mAttributeDict.__getattr__\u001b[0;34m(self, key)\u001b[0m\n\u001b[1;32m    287\u001b[0m \u001b[38;5;28;01mtry\u001b[39;00m:\n\u001b[0;32m--> 288\u001b[0m     \u001b[38;5;28;01mreturn\u001b[39;00m \u001b[38;5;28;43mself\u001b[39;49m\u001b[43m[\u001b[49m\u001b[43mkey\u001b[49m\u001b[43m]\u001b[49m\n\u001b[1;32m    289\u001b[0m \u001b[38;5;28;01mexcept\u001b[39;00m \u001b[38;5;167;01mKeyError\u001b[39;00m \u001b[38;5;28;01mas\u001b[39;00m exp:\n",
      "\u001b[0;31mKeyError\u001b[0m: 'input_size'",
      "\nThe above exception was the direct cause of the following exception:\n",
      "\u001b[0;31mAttributeError\u001b[0m                            Traceback (most recent call last)",
      "Input \u001b[0;32mIn [1]\u001b[0m, in \u001b[0;36m<cell line: 13>\u001b[0;34m()\u001b[0m\n\u001b[1;32m      4\u001b[0m \u001b[38;5;28;01mfrom\u001b[39;00m \u001b[38;5;21;01mexercise_code\u001b[39;00m\u001b[38;5;21;01m.\u001b[39;00m\u001b[38;5;21;01mdata_class\u001b[39;00m \u001b[38;5;28;01mimport\u001b[39;00m FashionMNISTDataModule\n\u001b[1;32m      6\u001b[0m hparams \u001b[38;5;241m=\u001b[39m {\n\u001b[1;32m      7\u001b[0m     \u001b[38;5;124m\"\u001b[39m\u001b[38;5;124mbatch_size\u001b[39m\u001b[38;5;124m\"\u001b[39m: \u001b[38;5;241m64\u001b[39m,\n\u001b[1;32m      8\u001b[0m     \u001b[38;5;124m\"\u001b[39m\u001b[38;5;124mlearning_rate\u001b[39m\u001b[38;5;124m\"\u001b[39m: \u001b[38;5;241m1e-3\u001b[39m,\n\u001b[1;32m      9\u001b[0m     \u001b[38;5;124m\"\u001b[39m\u001b[38;5;124mnum_workers\u001b[39m\u001b[38;5;124m\"\u001b[39m: \u001b[38;5;241m8\u001b[39m,    \u001b[38;5;66;03m# used by the dataloader, more workers means faster data preparation, but for us this is not a bottleneck here\u001b[39;00m\n\u001b[1;32m     10\u001b[0m }\n\u001b[0;32m---> 13\u001b[0m model \u001b[38;5;241m=\u001b[39m \u001b[43mTwoLayerNet\u001b[49m\u001b[43m(\u001b[49m\u001b[43mhparams\u001b[49m\u001b[43m)\u001b[49m\n\u001b[1;32m     14\u001b[0m data\u001b[38;5;241m=\u001b[39mFashionMNISTDataModule(hparams)\n\u001b[1;32m     15\u001b[0m data\u001b[38;5;241m.\u001b[39mprepare_data()\n",
      "File \u001b[0;32m~/Documents/Introduction to Deep Learning /exercise_07/exercise_code/lightning_models.py:21\u001b[0m, in \u001b[0;36mTwoLayerNet.__init__\u001b[0;34m(self, hparams)\u001b[0m\n\u001b[1;32m     17\u001b[0m \u001b[38;5;28mself\u001b[39m\u001b[38;5;241m.\u001b[39msave_hyperparameters(hparams)\n\u001b[1;32m     19\u001b[0m \u001b[38;5;66;03m# We can access the parameters here\u001b[39;00m\n\u001b[1;32m     20\u001b[0m \u001b[38;5;28mself\u001b[39m\u001b[38;5;241m.\u001b[39mmodel \u001b[38;5;241m=\u001b[39m nn\u001b[38;5;241m.\u001b[39mSequential(\n\u001b[0;32m---> 21\u001b[0m     nn\u001b[38;5;241m.\u001b[39mLinear(\u001b[38;5;28;43mself\u001b[39;49m\u001b[38;5;241;43m.\u001b[39;49m\u001b[43mhparams\u001b[49m\u001b[38;5;241;43m.\u001b[39;49m\u001b[43minput_size\u001b[49m,\n\u001b[1;32m     22\u001b[0m               \u001b[38;5;28mself\u001b[39m\u001b[38;5;241m.\u001b[39mhparams\u001b[38;5;241m.\u001b[39mhidden_size),\n\u001b[1;32m     23\u001b[0m     nn\u001b[38;5;241m.\u001b[39mSigmoid(),\n\u001b[1;32m     24\u001b[0m     nn\u001b[38;5;241m.\u001b[39mLinear(\u001b[38;5;28mself\u001b[39m\u001b[38;5;241m.\u001b[39mhparams\u001b[38;5;241m.\u001b[39mhidden_size,\n\u001b[1;32m     25\u001b[0m               \u001b[38;5;28mself\u001b[39m\u001b[38;5;241m.\u001b[39mhparams\u001b[38;5;241m.\u001b[39mnum_classes),\n\u001b[1;32m     26\u001b[0m )\n",
      "File \u001b[0;32m~/opt/anaconda3/envs/i2dl/lib/python3.10/site-packages/pytorch_lightning/utilities/parsing.py:290\u001b[0m, in \u001b[0;36mAttributeDict.__getattr__\u001b[0;34m(self, key)\u001b[0m\n\u001b[1;32m    288\u001b[0m     \u001b[38;5;28;01mreturn\u001b[39;00m \u001b[38;5;28mself\u001b[39m[key]\n\u001b[1;32m    289\u001b[0m \u001b[38;5;28;01mexcept\u001b[39;00m \u001b[38;5;167;01mKeyError\u001b[39;00m \u001b[38;5;28;01mas\u001b[39;00m exp:\n\u001b[0;32m--> 290\u001b[0m     \u001b[38;5;28;01mraise\u001b[39;00m \u001b[38;5;167;01mAttributeError\u001b[39;00m(\u001b[38;5;124mf\u001b[39m\u001b[38;5;124m'\u001b[39m\u001b[38;5;124mMissing attribute \u001b[39m\u001b[38;5;124m\"\u001b[39m\u001b[38;5;132;01m{\u001b[39;00mkey\u001b[38;5;132;01m}\u001b[39;00m\u001b[38;5;124m\"\u001b[39m\u001b[38;5;124m'\u001b[39m) \u001b[38;5;28;01mfrom\u001b[39;00m \u001b[38;5;21;01mexp\u001b[39;00m\n",
      "\u001b[0;31mAttributeError\u001b[0m: Missing attribute \"input_size\""
     ]
    }
   ],
   "source": [
    "from IPython.display import clear_output \n",
    "\n",
    "from exercise_code.lightning_models import TwoLayerNet\n",
    "from exercise_code.data_class import FashionMNISTDataModule\n",
    "\n",
    "hparams = {\n",
    "    \"batch_size\": 64,\n",
    "    \"learning_rate\": 1e-3,\n",
    "    \"num_workers\": 8,    # used by the dataloader, more workers means faster data preparation, but for us this is not a bottleneck here\n",
    "}\n",
    "\n",
    "\n",
    "model = TwoLayerNet(hparams)\n",
    "data=FashionMNISTDataModule(hparams)\n",
    "data.prepare_data()"
   ]
  },
  {
   "cell_type": "markdown",
   "metadata": {},
   "source": [
    " PyTorch Lightning provides ample flexibility for training using [`Trainer`](https://pytorch-lightning.readthedocs.io/en/latest/trainer.html) class.\n",
    "Have a look at the documentation to know more about them!\n",
    "\n",
    "Let's initialize it now!"
   ]
  },
  {
   "cell_type": "code",
   "execution_count": null,
   "metadata": {},
   "outputs": [],
   "source": [
    "trainer = pl.Trainer(\n",
    "    max_epochs=2,\n",
    "    # Uncomment to use GPU if available, if multiple you can select all indices, otherwise we use the first, -1 is CPU\n",
    "#     devices='0' \n",
    ")"
   ]
  },
  {
   "cell_type": "markdown",
   "metadata": {},
   "source": [
    "The argument `max_epochs` sets the maximum number of epochs for training. \n",
    "The argument `weights_summary` prints a summary of the number of weights per layer at the beginning of the training. Set it to None if the summary is not required.\n",
    " "
   ]
  },
  {
   "cell_type": "markdown",
   "metadata": {},
   "source": [
    "Here comes the actual training cell. The [`fit`](https://pytorch-lightning.readthedocs.io/en/latest/_modules/pytorch_lightning/trainer/trainer.html#Trainer.fit) function takes in the model and data to train the model with a lot more optional arguments for customization."
   ]
  },
  {
   "cell_type": "code",
   "execution_count": 9,
   "metadata": {},
   "outputs": [
    {
     "name": "stderr",
     "output_type": "stream",
     "text": [
      "\n",
      "  | Name  | Type       | Params\n",
      "-------------------------------------\n",
      "0 | model | Sequential | 407 K \n",
      "-------------------------------------\n",
      "407 K     Trainable params\n",
      "0         Non-trainable params\n",
      "407 K     Total params\n",
      "1.628     Total estimated model params size (MB)\n"
     ]
    },
    {
     "data": {
      "application/vnd.jupyter.widget-view+json": {
       "model_id": "",
       "version_major": 2,
       "version_minor": 0
      },
      "text/plain": [
       "Sanity Checking: 0it [00:00, ?it/s]"
      ]
     },
     "metadata": {},
     "output_type": "display_data"
    },
    {
     "name": "stderr",
     "output_type": "stream",
     "text": [
      "/Users/tianshi/opt/anaconda3/envs/i2dl/lib/python3.10/site-packages/pytorch_lightning/trainer/connectors/data_connector.py:240: PossibleUserWarning: The dataloader, val_dataloader 0, does not have many workers which may be a bottleneck. Consider increasing the value of the `num_workers` argument` (try 8 which is the number of cpus on this machine) in the `DataLoader` init to improve performance.\n",
      "  rank_zero_warn(\n",
      "/Users/tianshi/opt/anaconda3/envs/i2dl/lib/python3.10/site-packages/pytorch_lightning/trainer/connectors/data_connector.py:240: PossibleUserWarning: The dataloader, train_dataloader, does not have many workers which may be a bottleneck. Consider increasing the value of the `num_workers` argument` (try 8 which is the number of cpus on this machine) in the `DataLoader` init to improve performance.\n",
      "  rank_zero_warn(\n"
     ]
    },
    {
     "data": {
      "application/vnd.jupyter.widget-view+json": {
       "model_id": "7c3e5a497e224089b4617b35f679b93d",
       "version_major": 2,
       "version_minor": 0
      },
      "text/plain": [
       "Training: 0it [00:00, ?it/s]"
      ]
     },
     "metadata": {},
     "output_type": "display_data"
    },
    {
     "data": {
      "application/vnd.jupyter.widget-view+json": {
       "model_id": "",
       "version_major": 2,
       "version_minor": 0
      },
      "text/plain": [
       "Validation: 0it [00:00, ?it/s]"
      ]
     },
     "metadata": {},
     "output_type": "display_data"
    },
    {
     "data": {
      "application/vnd.jupyter.widget-view+json": {
       "model_id": "",
       "version_major": 2,
       "version_minor": 0
      },
      "text/plain": [
       "Validation: 0it [00:00, ?it/s]"
      ]
     },
     "metadata": {},
     "output_type": "display_data"
    }
   ],
   "source": [
    "trainer.fit(model, data)"
   ]
  },
  {
   "cell_type": "markdown",
   "metadata": {},
   "source": [
    "Checkout the directory `lightning_logs`. For each run there is a new directory `version_xx` created. The rightmost argument in the progress bar, the `v_num` variable above shows the version of the current run. Each directory automatically contains a folder with checkpoints, logs and the hyperparameters for this run.\n",
    "\n",
    "As seen in the last notebook, you can have a look at the  logs of the runs in the TensorBoard  \n",
    "Use the command as in the previous notebook in your terminal \n",
    "```\n",
    "tensorboard --logdir lightning_logs\n",
    "```\n",
    "Make sure to use the above command as the same directory as `exercise_07`."
   ]
  },
  {
   "cell_type": "markdown",
   "metadata": {},
   "source": [
    "If you are using Google Colab, run the following cell to load the TensorBoard extension within the notebook. You may have to scroll to this block whenever you need to look at the TensorBoard interface."
   ]
  },
  {
   "cell_type": "code",
   "execution_count": 10,
   "metadata": {},
   "outputs": [],
   "source": [
    "# %load_ext tensorboard\n",
    "# %tensorboard --logdir lightning_logs"
   ]
  },
  {
   "cell_type": "markdown",
   "metadata": {},
   "source": [
    "## 4.3 Add images to tensorboard"
   ]
  },
  {
   "cell_type": "markdown",
   "metadata": {},
   "source": [
    "The tensorboard logger is a submodule of the `LightningModule` and can be accessed via `self.logger`. We can  add images  to the logging module by calling \n",
    "```python\n",
    "self.logger.experiment.add_image('tag', image)\n",
    "```\n",
    "to add an image. \n",
    "\n",
    "\n",
    "We will log the first batch of validation images in a grid together with the predicted class labels and the ground truth labels. \n",
    "\n",
    "```python\n",
    "        if batch_idx == 0:\n",
    "            self.visualize_predictions(images, out.detach(), targets)\n",
    "```\n",
    "\n",
    "Let's have a look at the implementation of `visualize_predictions()` function in `exercise_code.lightning_models`.\n",
    "\n",
    "\n",
    "\n",
    "```python\n",
    "    def visualize_predictions(self, images, preds, targets):\n",
    "        class_names = ['airplane', 'automobile', 'bird', 'cat', 'deer', \n",
    "                       'dog', 'frog', 'horse', 'ship', 'truck']\n",
    "\n",
    "        # determine size of the grid based on given batch size\n",
    "        num_rows = torch.tensor(len(images)).float().sqrt().floor()\n",
    "        \n",
    "        fig = plt.figure(figsize=(10, 10))\n",
    "        for i in range(len(images)):\n",
    "            plt.subplot(num_rows ,len(images) // num_rows + 1, i+1)\n",
    "            plt.imshow(images[i].permute(1, 2, 0))\n",
    "            plt.title(class_names[torch.argmax(preds, axis=-1)[i]] + f'\\n[{class_names[targets[i]]}]')\n",
    "            plt.axis('off')\n",
    "\n",
    "        self.logger.experiment.add_figure('predictions', fig, global_step=self.global_step)\n",
    "```\n",
    "\n",
    "You can view the logged images in your `IMAGES` tab of TensorBoard."
   ]
  },
  {
   "cell_type": "markdown",
   "metadata": {},
   "source": [
    "We have now looked at how to train a model using PyTorch Lightning. PyTorch Lightning is very active in developement and the features set are continously expanded and updated.\n"
   ]
  },
  {
   "cell_type": "markdown",
   "metadata": {},
   "source": [
    "# 4. Other Features of PyTorch Lightning\n",
    "\n",
    "\n",
    "### Checking  training timings\n",
    "\n",
    "The argument `profiler` of the `Trainer` class measures the time taken in different steps such as dataloading, forward and backward pass. You can select a variety of loggers [here](https://pytorch-lightning.readthedocs.io/en/stable/advanced/profiler.html).\n",
    "\n",
    "Run the cell below to see for yourself."
   ]
  },
  {
   "cell_type": "code",
   "execution_count": 11,
   "metadata": {},
   "outputs": [
    {
     "name": "stderr",
     "output_type": "stream",
     "text": [
      "GPU available: False, used: False\n",
      "TPU available: False, using: 0 TPU cores\n",
      "IPU available: False, using: 0 IPUs\n",
      "HPU available: False, using: 0 HPUs\n",
      "\n",
      "  | Name  | Type       | Params\n",
      "-------------------------------------\n",
      "0 | model | Sequential | 407 K \n",
      "-------------------------------------\n",
      "407 K     Trainable params\n",
      "0         Non-trainable params\n",
      "407 K     Total params\n",
      "1.628     Total estimated model params size (MB)\n"
     ]
    },
    {
     "data": {
      "application/vnd.jupyter.widget-view+json": {
       "model_id": "",
       "version_major": 2,
       "version_minor": 0
      },
      "text/plain": [
       "Sanity Checking: 0it [00:00, ?it/s]"
      ]
     },
     "metadata": {},
     "output_type": "display_data"
    },
    {
     "data": {
      "application/vnd.jupyter.widget-view+json": {
       "model_id": "3cd5b882bac6467b94889629f5eaa6a2",
       "version_major": 2,
       "version_minor": 0
      },
      "text/plain": [
       "Training: 0it [00:00, ?it/s]"
      ]
     },
     "metadata": {},
     "output_type": "display_data"
    },
    {
     "data": {
      "application/vnd.jupyter.widget-view+json": {
       "model_id": "",
       "version_major": 2,
       "version_minor": 0
      },
      "text/plain": [
       "Validation: 0it [00:00, ?it/s]"
      ]
     },
     "metadata": {},
     "output_type": "display_data"
    },
    {
     "name": "stderr",
     "output_type": "stream",
     "text": [
      "FIT Profiler Report\n",
      "\n",
      "------------------------------------------------------------------------------------------------------------------------------------------------------------------------------------------------------------------------------------------------------------------------------------------------------------------\n",
      "|  Action                                                                                                                                                                                                    \t|  Mean duration (s)\t|  Num calls      \t|  Total time (s) \t|  Percentage %   \t|\n",
      "------------------------------------------------------------------------------------------------------------------------------------------------------------------------------------------------------------------------------------------------------------------------------------------------------------------\n",
      "|  Total                                                                                                                                                                                                     \t|  -              \t|  137063         \t|  23.206         \t|  100 %          \t|\n",
      "------------------------------------------------------------------------------------------------------------------------------------------------------------------------------------------------------------------------------------------------------------------------------------------------------------------\n",
      "|  run_training_epoch                                                                                                                                                                                        \t|  22.057         \t|  1              \t|  22.057         \t|  95.049         \t|\n",
      "|  run_training_batch                                                                                                                                                                                        \t|  0.0038893      \t|  3125           \t|  12.154         \t|  52.374         \t|\n",
      "|  [LightningModule]TwoLayerNet.optimizer_step                                                                                                                                                               \t|  0.0036464      \t|  3125           \t|  11.395         \t|  49.104         \t|\n",
      "|  [Strategy]SingleDeviceStrategy.backward                                                                                                                                                                   \t|  0.0013002      \t|  3125           \t|  4.063          \t|  17.508         \t|\n",
      "|  on_train_batch_end                                                                                                                                                                                        \t|  0.0011859      \t|  3125           \t|  3.7059         \t|  15.97          \t|\n",
      "|  [Strategy]SingleDeviceStrategy.training_step                                                                                                                                                              \t|  0.0011321      \t|  3125           \t|  3.5379         \t|  15.246         \t|\n",
      "|  [Strategy]SingleDeviceStrategy.validation_step                                                                                                                                                            \t|  0.0017798      \t|  627            \t|  1.1159         \t|  4.8088         \t|\n",
      "|  [LightningModule]TwoLayerNet.optimizer_zero_grad                                                                                                                                                          \t|  0.00016251     \t|  3125           \t|  0.50784        \t|  2.1884         \t|\n",
      "|  [Callback]TQDMProgressBar.on_validation_batch_end                                                                                                                                                         \t|  0.00079185     \t|  627            \t|  0.49649        \t|  2.1395         \t|\n",
      "|  on_train_batch_start                                                                                                                                                                                      \t|  9.0836e-05     \t|  3125           \t|  0.28386        \t|  1.2232         \t|\n",
      "|  [Strategy]SingleDeviceStrategy.batch_to_device                                                                                                                                                            \t|  4.2003e-05     \t|  3752           \t|  0.1576         \t|  0.67912        \t|\n",
      "|  [Callback]TQDMProgressBar.on_train_start                                                                                                                                                                  \t|  0.019981       \t|  1              \t|  0.019981       \t|  0.086102       \t|\n",
      "|  [Callback]TQDMProgressBar.on_after_backward                                                                                                                                                               \t|  5.6464e-06     \t|  3125           \t|  0.017645       \t|  0.076036       \t|\n",
      "|  [Callback]TQDMProgressBar.on_sanity_check_start                                                                                                                                                           \t|  0.015708       \t|  1              \t|  0.015708       \t|  0.06769        \t|\n",
      "|  [Callback]TQDMProgressBar.on_validation_start                                                                                                                                                             \t|  0.0066121      \t|  2              \t|  0.013224       \t|  0.056986       \t|\n",
      "|  [Callback]TQDMProgressBar.on_before_backward                                                                                                                                                              \t|  3.7681e-06     \t|  3125           \t|  0.011775       \t|  0.050743       \t|\n",
      "|  [Callback]ModelSummary.on_after_backward                                                                                                                                                                  \t|  3.1876e-06     \t|  3125           \t|  0.0099611      \t|  0.042925       \t|\n",
      "|  [Callback]TQDMProgressBar.on_before_optimizer_step                                                                                                                                                        \t|  2.7949e-06     \t|  3125           \t|  0.008734       \t|  0.037637       \t|\n",
      "|  [Callback]GradientAccumulationScheduler.on_after_backward                                                                                                                                                 \t|  2.6527e-06     \t|  3125           \t|  0.0082897      \t|  0.035723       \t|\n",
      "|  [Callback]ModelCheckpoint{'monitor': None, 'mode': 'min', 'every_n_train_steps': 0, 'every_n_epochs': 1, 'train_time_interval': None, 'save_on_train_epoch_end': True}.on_after_backward                  \t|  2.6466e-06     \t|  3125           \t|  0.0082707      \t|  0.03564        \t|\n",
      "|  [Callback]TQDMProgressBar.on_before_zero_grad                                                                                                                                                             \t|  2.6264e-06     \t|  3125           \t|  0.0082075      \t|  0.035368       \t|\n",
      "|  [Callback]ModelSummary.on_before_backward                                                                                                                                                                 \t|  2.5641e-06     \t|  3125           \t|  0.0080129      \t|  0.03453        \t|\n",
      "|  [Callback]GradientAccumulationScheduler.on_before_backward                                                                                                                                                \t|  2.4512e-06     \t|  3125           \t|  0.00766        \t|  0.033009       \t|\n",
      "|  [Callback]ModelCheckpoint{'monitor': None, 'mode': 'min', 'every_n_train_steps': 0, 'every_n_epochs': 1, 'train_time_interval': None, 'save_on_train_epoch_end': True}.on_before_optimizer_step           \t|  2.4279e-06     \t|  3125           \t|  0.0075872      \t|  0.032695       \t|\n",
      "|  [Callback]ModelCheckpoint{'monitor': None, 'mode': 'min', 'every_n_train_steps': 0, 'every_n_epochs': 1, 'train_time_interval': None, 'save_on_train_epoch_end': True}.on_before_backward                 \t|  2.4127e-06     \t|  3125           \t|  0.0075398      \t|  0.032491       \t|\n",
      "|  [Callback]ModelSummary.on_before_optimizer_step                                                                                                                                                           \t|  2.3154e-06     \t|  3125           \t|  0.0072358      \t|  0.031181       \t|\n",
      "|  [Callback]GradientAccumulationScheduler.on_before_optimizer_step                                                                                                                                          \t|  2.3028e-06     \t|  3125           \t|  0.0071963      \t|  0.031011       \t|\n",
      "|  [Callback]TQDMProgressBar.on_batch_start                                                                                                                                                                  \t|  2.191e-06      \t|  3125           \t|  0.0068469      \t|  0.029505       \t|\n",
      "|  [Callback]TQDMProgressBar.on_batch_end                                                                                                                                                                    \t|  2.0828e-06     \t|  3125           \t|  0.0065088      \t|  0.028048       \t|\n",
      "|  [Callback]ModelSummary.on_before_zero_grad                                                                                                                                                                \t|  1.8798e-06     \t|  3125           \t|  0.0058745      \t|  0.025315       \t|\n",
      "|  [Callback]ModelCheckpoint{'monitor': None, 'mode': 'min', 'every_n_train_steps': 0, 'every_n_epochs': 1, 'train_time_interval': None, 'save_on_train_epoch_end': True}.on_train_epoch_end                 \t|  0.00586        \t|  1              \t|  0.00586        \t|  0.025252       \t|\n",
      "|  [Callback]ModelCheckpoint{'monitor': None, 'mode': 'min', 'every_n_train_steps': 0, 'every_n_epochs': 1, 'train_time_interval': None, 'save_on_train_epoch_end': True}.on_before_zero_grad                \t|  1.8659e-06     \t|  3125           \t|  0.0058308      \t|  0.025126       \t|\n",
      "|  [Callback]GradientAccumulationScheduler.on_before_zero_grad                                                                                                                                               \t|  1.8259e-06     \t|  3125           \t|  0.0057059      \t|  0.024588       \t|\n",
      "|  [Callback]TQDMProgressBar.on_validation_batch_start                                                                                                                                                       \t|  8.9453e-06     \t|  627            \t|  0.0056087      \t|  0.024169       \t|\n",
      "|  [Callback]GradientAccumulationScheduler.on_batch_start                                                                                                                                                    \t|  1.6658e-06     \t|  3125           \t|  0.0052057      \t|  0.022433       \t|\n",
      "|  [Callback]ModelCheckpoint{'monitor': None, 'mode': 'min', 'every_n_train_steps': 0, 'every_n_epochs': 1, 'train_time_interval': None, 'save_on_train_epoch_end': True}.on_batch_start                     \t|  1.6458e-06     \t|  3125           \t|  0.0051431      \t|  0.022163       \t|\n",
      "|  [Callback]ModelSummary.on_batch_start                                                                                                                                                                     \t|  1.6191e-06     \t|  3125           \t|  0.0050596      \t|  0.021803       \t|\n",
      "|  [Callback]GradientAccumulationScheduler.on_batch_end                                                                                                                                                      \t|  1.5387e-06     \t|  3125           \t|  0.0048084      \t|  0.020721       \t|\n",
      "|  [Callback]ModelCheckpoint{'monitor': None, 'mode': 'min', 'every_n_train_steps': 0, 'every_n_epochs': 1, 'train_time_interval': None, 'save_on_train_epoch_end': True}.on_batch_end                       \t|  1.5195e-06     \t|  3125           \t|  0.0047485      \t|  0.020462       \t|\n",
      "|  [Callback]ModelSummary.on_batch_end                                                                                                                                                                       \t|  1.5062e-06     \t|  3125           \t|  0.0047069      \t|  0.020283       \t|\n",
      "|  [Callback]ModelSummary.on_validation_batch_end                                                                                                                                                            \t|  6.5687e-06     \t|  627            \t|  0.0041186      \t|  0.017748       \t|\n",
      "|  [LightningModule]TwoLayerNet.on_after_backward                                                                                                                                                            \t|  1.2808e-06     \t|  3125           \t|  0.0040026      \t|  0.017248       \t|\n",
      "|  [LightningModule]TwoLayerNet.training_step_end                                                                                                                                                            \t|  1.2025e-06     \t|  3125           \t|  0.0037578      \t|  0.016193       \t|\n",
      "|  [LightningModule]TwoLayerNet.on_train_batch_end                                                                                                                                                           \t|  1.0798e-06     \t|  3125           \t|  0.0033743      \t|  0.014541       \t|\n",
      "|  [Strategy]SingleDeviceStrategy.training_step_end                                                                                                                                                          \t|  1.0484e-06     \t|  3125           \t|  0.0032763      \t|  0.014119       \t|\n",
      "|  [LightningModule]TwoLayerNet.on_before_optimizer_step                                                                                                                                                     \t|  9.4028e-07     \t|  3125           \t|  0.0029384      \t|  0.012662       \t|\n",
      "|  [LightningModule]TwoLayerNet.validation_epoch_end                                                                                                                                                         \t|  0.0013704      \t|  2              \t|  0.0027409      \t|  0.011811       \t|\n",
      "|  [LightningModule]TwoLayerNet.on_before_zero_grad                                                                                                                                                          \t|  8.6448e-07     \t|  3125           \t|  0.0027015      \t|  0.011641       \t|\n",
      "|  [LightningModule]TwoLayerNet.on_before_backward                                                                                                                                                           \t|  8.4944e-07     \t|  3125           \t|  0.0026545      \t|  0.011439       \t|\n",
      "|  [Strategy]SingleDeviceStrategy.on_train_batch_start                                                                                                                                                       \t|  7.5557e-07     \t|  3125           \t|  0.0023611      \t|  0.010175       \t|\n",
      "|  [LightningModule]TwoLayerNet.on_train_batch_start                                                                                                                                                         \t|  6.9782e-07     \t|  3125           \t|  0.0021807      \t|  0.0093972      \t|\n",
      "|  [Callback]ModelSummary.on_validation_batch_start                                                                                                                                                          \t|  2.182e-06      \t|  627            \t|  0.0013681      \t|  0.0058956      \t|\n",
      "|  [Callback]GradientAccumulationScheduler.on_validation_batch_end                                                                                                                                           \t|  2.1315e-06     \t|  627            \t|  0.0013365      \t|  0.0057591      \t|\n",
      "|  [Callback]ModelCheckpoint{'monitor': None, 'mode': 'min', 'every_n_train_steps': 0, 'every_n_epochs': 1, 'train_time_interval': None, 'save_on_train_epoch_end': True}.on_validation_batch_end            \t|  1.8681e-06     \t|  627            \t|  0.0011713      \t|  0.0050474      \t|\n",
      "|  [Callback]ModelCheckpoint{'monitor': None, 'mode': 'min', 'every_n_train_steps': 0, 'every_n_epochs': 1, 'train_time_interval': None, 'save_on_train_epoch_end': True}.on_validation_batch_start          \t|  1.7245e-06     \t|  627            \t|  0.0010813      \t|  0.0046595      \t|\n",
      "|  [Callback]GradientAccumulationScheduler.on_validation_batch_start                                                                                                                                         \t|  1.7218e-06     \t|  627            \t|  0.0010796      \t|  0.0046521      \t|\n",
      "|  [Callback]TQDMProgressBar.on_validation_end                                                                                                                                                               \t|  0.00053879     \t|  2              \t|  0.0010776      \t|  0.0046436      \t|\n",
      "|  [Callback]TQDMProgressBar.on_train_epoch_start                                                                                                                                                            \t|  0.000834       \t|  1              \t|  0.000834       \t|  0.0035939      \t|\n",
      "|  [LightningModule]TwoLayerNet.validation_step_end                                                                                                                                                          \t|  1.2202e-06     \t|  627            \t|  0.00076507     \t|  0.0032969      \t|\n",
      "|  [Callback]ModelSummary.on_fit_start                                                                                                                                                                       \t|  0.00068196     \t|  1              \t|  0.00068196     \t|  0.0029387      \t|\n",
      "|  [Callback]TQDMProgressBar.on_train_end                                                                                                                                                                    \t|  0.0006705      \t|  1              \t|  0.0006705      \t|  0.0028894      \t|\n",
      "|  [LightningModule]TwoLayerNet.on_validation_batch_end                                                                                                                                                      \t|  8.9382e-07     \t|  627            \t|  0.00056042     \t|  0.002415       \t|\n",
      "|  [LightningModule]TwoLayerNet.on_validation_batch_start                                                                                                                                                    \t|  8.2384e-07     \t|  627            \t|  0.00051655     \t|  0.0022259      \t|\n",
      "|  [Strategy]SingleDeviceStrategy.validation_step_end                                                                                                                                                        \t|  8.1023e-07     \t|  627            \t|  0.00050801     \t|  0.0021892      \t|\n",
      "|  [Callback]TQDMProgressBar.on_train_epoch_end                                                                                                                                                              \t|  0.00044721     \t|  1              \t|  0.00044721     \t|  0.0019271      \t|\n",
      "|  [Callback]ModelCheckpoint{'monitor': None, 'mode': 'min', 'every_n_train_steps': 0, 'every_n_epochs': 1, 'train_time_interval': None, 'save_on_train_epoch_end': None}.setup                              \t|  8.9708e-05     \t|  1              \t|  8.9708e-05     \t|  0.00038657     \t|\n",
      "|  [LightningModule]TwoLayerNet.on_validation_model_train                                                                                                                                                    \t|  3.6375e-05     \t|  2              \t|  7.275e-05      \t|  0.0003135      \t|\n",
      "|  [LightningModule]TwoLayerNet.on_validation_model_eval                                                                                                                                                     \t|  3.2729e-05     \t|  2              \t|  6.5458e-05     \t|  0.00028208     \t|\n",
      "|  [LightningModule]TwoLayerNet.configure_optimizers                                                                                                                                                         \t|  5.5459e-05     \t|  1              \t|  5.5459e-05     \t|  0.00023899     \t|\n",
      "|  [Callback]ModelCheckpoint{'monitor': None, 'mode': 'min', 'every_n_train_steps': 0, 'every_n_epochs': 1, 'train_time_interval': None, 'save_on_train_epoch_end': True}.on_validation_end                  \t|  1.7376e-05     \t|  2              \t|  3.4751e-05     \t|  0.00014975     \t|\n",
      "|  [Callback]ModelSummary.on_validation_start                                                                                                                                                                \t|  7.5835e-06     \t|  2              \t|  1.5167e-05     \t|  6.5358e-05     \t|\n",
      "|  [Callback]ModelSummary.on_train_start                                                                                                                                                                     \t|  1.3625e-05     \t|  1              \t|  1.3625e-05     \t|  5.8713e-05     \t|\n",
      "|  [Callback]ModelSummary.on_sanity_check_start                                                                                                                                                              \t|  1.1292e-05     \t|  1              \t|  1.1292e-05     \t|  4.866e-05      \t|\n",
      "|  [Callback]ModelSummary.on_validation_end                                                                                                                                                                  \t|  5.354e-06      \t|  2              \t|  1.0708e-05     \t|  4.6144e-05     \t|\n",
      "|  [LightningModule]TwoLayerNet.on_validation_epoch_end                                                                                                                                                      \t|  3.9375e-06     \t|  2              \t|  7.875e-06      \t|  3.3935e-05     \t|\n",
      "|  [Callback]TQDMProgressBar.on_epoch_start                                                                                                                                                                  \t|  2.4583e-06     \t|  3              \t|  7.375e-06      \t|  3.1781e-05     \t|\n",
      "|  [Callback]ModelSummary.on_train_epoch_start                                                                                                                                                               \t|  6.584e-06      \t|  1              \t|  6.584e-06      \t|  2.8372e-05     \t|\n",
      "|  [Callback]TQDMProgressBar.on_epoch_end                                                                                                                                                                    \t|  2.0556e-06     \t|  3              \t|  6.1669e-06     \t|  2.6575e-05     \t|\n",
      "|  [Callback]TQDMProgressBar.on_validation_epoch_end                                                                                                                                                         \t|  2.9375e-06     \t|  2              \t|  5.8751e-06     \t|  2.5317e-05     \t|\n",
      "|  [Callback]GradientAccumulationScheduler.on_train_epoch_start                                                                                                                                              \t|  5.375e-06      \t|  1              \t|  5.375e-06      \t|  2.3162e-05     \t|\n",
      "|  [Callback]ModelSummary.on_train_epoch_end                                                                                                                                                                 \t|  4.833e-06      \t|  1              \t|  4.833e-06      \t|  2.0827e-05     \t|\n",
      "|  [Callback]ModelSummary.on_train_end                                                                                                                                                                       \t|  4.709e-06      \t|  1              \t|  4.709e-06      \t|  2.0292e-05     \t|\n",
      "|  [Callback]ModelSummary.on_epoch_start                                                                                                                                                                     \t|  1.5693e-06     \t|  3              \t|  4.708e-06      \t|  2.0288e-05     \t|\n",
      "|  [Callback]GradientAccumulationScheduler.on_epoch_end                                                                                                                                                      \t|  1.556e-06      \t|  3              \t|  4.6679e-06     \t|  2.0115e-05     \t|\n",
      "|  [Callback]ModelCheckpoint{'monitor': None, 'mode': 'min', 'every_n_train_steps': 0, 'every_n_epochs': 1, 'train_time_interval': None, 'save_on_train_epoch_end': True}.on_epoch_start                     \t|  1.5557e-06     \t|  3              \t|  4.667e-06      \t|  2.0111e-05     \t|\n",
      "|  [Callback]GradientAccumulationScheduler.on_epoch_start                                                                                                                                                    \t|  1.5417e-06     \t|  3              \t|  4.625e-06      \t|  1.993e-05      \t|\n",
      "|  [Callback]ModelCheckpoint{'monitor': None, 'mode': 'min', 'every_n_train_steps': 0, 'every_n_epochs': 1, 'train_time_interval': None, 'save_on_train_epoch_end': True}.on_epoch_end                       \t|  1.5413e-06     \t|  3              \t|  4.624e-06      \t|  1.9926e-05     \t|\n",
      "|  [Callback]ModelSummary.on_epoch_end                                                                                                                                                                       \t|  1.5277e-06     \t|  3              \t|  4.583e-06      \t|  1.9749e-05     \t|\n",
      "|  [Strategy]SingleDeviceStrategy.on_validation_end                                                                                                                                                          \t|  2.2705e-06     \t|  2              \t|  4.5411e-06     \t|  1.9569e-05     \t|\n",
      "|  [Callback]GradientAccumulationScheduler.on_fit_start                                                                                                                                                      \t|  4.541e-06      \t|  1              \t|  4.541e-06      \t|  1.9568e-05     \t|\n",
      "|  [Callback]TQDMProgressBar.on_sanity_check_end                                                                                                                                                             \t|  4.125e-06      \t|  1              \t|  4.125e-06      \t|  1.7776e-05     \t|\n",
      "|  [Callback]GradientAccumulationScheduler.on_validation_start                                                                                                                                               \t|  1.875e-06      \t|  2              \t|  3.75e-06       \t|  1.616e-05      \t|\n",
      "|  [Callback]GradientAccumulationScheduler.on_validation_end                                                                                                                                                 \t|  1.8545e-06     \t|  2              \t|  3.709e-06      \t|  1.5983e-05     \t|\n",
      "|  [Callback]TQDMProgressBar.on_validation_epoch_start                                                                                                                                                       \t|  1.8335e-06     \t|  2              \t|  3.667e-06      \t|  1.5802e-05     \t|\n",
      "|  [LightningModule]TwoLayerNet.configure_callbacks                                                                                                                                                          \t|  3.625e-06      \t|  1              \t|  3.625e-06      \t|  1.5621e-05     \t|\n",
      "|  [Callback]TQDMProgressBar.setup                                                                                                                                                                           \t|  3.625e-06      \t|  1              \t|  3.625e-06      \t|  1.5621e-05     \t|\n",
      "|  [Callback]ModelCheckpoint{'monitor': None, 'mode': 'min', 'every_n_train_steps': 0, 'every_n_epochs': 1, 'train_time_interval': None, 'save_on_train_epoch_end': True}.on_validation_epoch_end            \t|  1.7295e-06     \t|  2              \t|  3.459e-06      \t|  1.4906e-05     \t|\n",
      "|  [Callback]GradientAccumulationScheduler.on_validation_epoch_end                                                                                                                                           \t|  1.6875e-06     \t|  2              \t|  3.3751e-06     \t|  1.4544e-05     \t|\n",
      "|  [Callback]TQDMProgressBar.on_fit_end                                                                                                                                                                      \t|  3.292e-06      \t|  1              \t|  3.292e-06      \t|  1.4186e-05     \t|\n",
      "|  [Callback]ModelSummary.on_validation_epoch_end                                                                                                                                                            \t|  1.6455e-06     \t|  2              \t|  3.2909e-06     \t|  1.4182e-05     \t|\n",
      "|  [Callback]ModelCheckpoint{'monitor': None, 'mode': 'min', 'every_n_train_steps': 0, 'every_n_epochs': 1, 'train_time_interval': None, 'save_on_train_epoch_end': True}.on_validation_start                \t|  1.625e-06      \t|  2              \t|  3.25e-06       \t|  1.4005e-05     \t|\n",
      "|  [Callback]ModelSummary.on_validation_epoch_start                                                                                                                                                          \t|  1.5835e-06     \t|  2              \t|  3.167e-06      \t|  1.3647e-05     \t|\n",
      "|  [Callback]ModelCheckpoint{'monitor': None, 'mode': 'min', 'every_n_train_steps': 0, 'every_n_epochs': 1, 'train_time_interval': None, 'save_on_train_epoch_end': True}.on_validation_epoch_start          \t|  1.542e-06      \t|  2              \t|  3.084e-06      \t|  1.329e-05      \t|\n",
      "|  [Callback]GradientAccumulationScheduler.on_validation_epoch_start                                                                                                                                         \t|  1.5415e-06     \t|  2              \t|  3.083e-06      \t|  1.3286e-05     \t|\n",
      "|  [Callback]TQDMProgressBar.on_save_checkpoint                                                                                                                                                              \t|  3e-06          \t|  1              \t|  3e-06          \t|  1.2928e-05     \t|\n",
      "|  [Callback]TQDMProgressBar.on_before_accelerator_backend_setup                                                                                                                                             \t|  2.834e-06      \t|  1              \t|  2.834e-06      \t|  1.2212e-05     \t|\n",
      "|  [Callback]TQDMProgressBar.on_pretrain_routine_start                                                                                                                                                       \t|  2.833e-06      \t|  1              \t|  2.833e-06      \t|  1.2208e-05     \t|\n",
      "|  [LightningModule]TwoLayerNet.on_epoch_start                                                                                                                                                               \t|  9.1667e-07     \t|  3              \t|  2.75e-06       \t|  1.1851e-05     \t|\n",
      "|  [Callback]ModelCheckpoint{'monitor': None, 'mode': 'min', 'every_n_train_steps': 0, 'every_n_epochs': 1, 'train_time_interval': None, 'save_on_train_epoch_end': True}.on_train_start                     \t|  2.583e-06      \t|  1              \t|  2.583e-06      \t|  1.1131e-05     \t|\n",
      "|  [Callback]TQDMProgressBar.on_fit_start                                                                                                                                                                    \t|  2.208e-06      \t|  1              \t|  2.208e-06      \t|  9.5148e-06     \t|\n",
      "|  [LightningModule]TwoLayerNet.on_epoch_end                                                                                                                                                                 \t|  7.2201e-07     \t|  3              \t|  2.166e-06      \t|  9.3339e-06     \t|\n",
      "|  [Callback]TQDMProgressBar.teardown                                                                                                                                                                        \t|  2.125e-06      \t|  1              \t|  2.125e-06      \t|  9.1571e-06     \t|\n",
      "|  [LightningModule]TwoLayerNet.prepare_data                                                                                                                                                                 \t|  2.083e-06      \t|  1              \t|  2.083e-06      \t|  8.9763e-06     \t|\n",
      "|  [Callback]ModelCheckpoint{'monitor': None, 'mode': 'min', 'every_n_train_steps': 0, 'every_n_epochs': 1, 'train_time_interval': None, 'save_on_train_epoch_end': True}.on_fit_start                       \t|  2.042e-06      \t|  1              \t|  2.042e-06      \t|  8.7994e-06     \t|\n",
      "|  [Callback]GradientAccumulationScheduler.on_save_checkpoint                                                                                                                                                \t|  2.041e-06      \t|  1              \t|  2.041e-06      \t|  8.7952e-06     \t|\n",
      "|  [Callback]TQDMProgressBar.on_configure_sharded_model                                                                                                                                                      \t|  2e-06          \t|  1              \t|  2e-06          \t|  8.6186e-06     \t|\n",
      "|  [LightningModule]TwoLayerNet.on_validation_end                                                                                                                                                            \t|  9.9951e-07     \t|  2              \t|  1.999e-06      \t|  8.6143e-06     \t|\n",
      "|  [Callback]GradientAccumulationScheduler.on_train_start                                                                                                                                                    \t|  1.958e-06      \t|  1              \t|  1.958e-06      \t|  8.4375e-06     \t|\n",
      "|  [Callback]ModelSummary.setup                                                                                                                                                                              \t|  1.917e-06      \t|  1              \t|  1.917e-06      \t|  8.2609e-06     \t|\n",
      "|  [Callback]ModelCheckpoint{'monitor': None, 'mode': 'min', 'every_n_train_steps': 0, 'every_n_epochs': 1, 'train_time_interval': None, 'save_on_train_epoch_end': True}.on_sanity_check_start              \t|  1.917e-06      \t|  1              \t|  1.917e-06      \t|  8.2609e-06     \t|\n",
      "|  [Callback]ModelSummary.on_sanity_check_end                                                                                                                                                                \t|  1.917e-06      \t|  1              \t|  1.917e-06      \t|  8.2609e-06     \t|\n",
      "|  [Callback]GradientAccumulationScheduler.on_sanity_check_start                                                                                                                                             \t|  1.916e-06      \t|  1              \t|  1.916e-06      \t|  8.2566e-06     \t|\n",
      "|  [Callback]ModelCheckpoint{'monitor': None, 'mode': 'min', 'every_n_train_steps': 0, 'every_n_epochs': 1, 'train_time_interval': None, 'save_on_train_epoch_end': True}.on_train_epoch_start               \t|  1.834e-06      \t|  1              \t|  1.834e-06      \t|  7.9032e-06     \t|\n",
      "|  [Callback]GradientAccumulationScheduler.on_train_epoch_end                                                                                                                                                \t|  1.833e-06      \t|  1              \t|  1.833e-06      \t|  7.8989e-06     \t|\n",
      "|  [Callback]ModelSummary.on_before_accelerator_backend_setup                                                                                                                                                \t|  1.75e-06       \t|  1              \t|  1.75e-06       \t|  7.5413e-06     \t|\n",
      "|  [Callback]ModelCheckpoint{'monitor': None, 'mode': 'min', 'every_n_train_steps': 0, 'every_n_epochs': 1, 'train_time_interval': None, 'save_on_train_epoch_end': True}.on_save_checkpoint                 \t|  1.75e-06       \t|  1              \t|  1.75e-06       \t|  7.5413e-06     \t|\n",
      "|  [Callback]GradientAccumulationScheduler.on_train_end                                                                                                                                                      \t|  1.75e-06       \t|  1              \t|  1.75e-06       \t|  7.5413e-06     \t|\n",
      "|  [Callback]ModelCheckpoint{'monitor': None, 'mode': 'min', 'every_n_train_steps': 0, 'every_n_epochs': 1, 'train_time_interval': None, 'save_on_train_epoch_end': None}.on_before_accelerator_backend_setup\t|  1.75e-06       \t|  1              \t|  1.75e-06       \t|  7.541e-06      \t|\n",
      "|  [Callback]ModelSummary.on_save_checkpoint                                                                                                                                                                 \t|  1.75e-06       \t|  1              \t|  1.75e-06       \t|  7.541e-06      \t|\n",
      "|  [Callback]GradientAccumulationScheduler.setup                                                                                                                                                             \t|  1.709e-06      \t|  1              \t|  1.709e-06      \t|  7.3644e-06     \t|\n",
      "|  [Callback]ModelCheckpoint{'monitor': None, 'mode': 'min', 'every_n_train_steps': 0, 'every_n_epochs': 1, 'train_time_interval': None, 'save_on_train_epoch_end': True}.on_configure_sharded_model         \t|  1.708e-06      \t|  1              \t|  1.708e-06      \t|  7.3602e-06     \t|\n",
      "|  [LightningModule]TwoLayerNet.on_validation_start                                                                                                                                                          \t|  8.3298e-07     \t|  2              \t|  1.666e-06      \t|  7.1791e-06     \t|\n",
      "|  [Callback]TQDMProgressBar.on_pretrain_routine_end                                                                                                                                                         \t|  1.625e-06      \t|  1              \t|  1.625e-06      \t|  7.0027e-06     \t|\n",
      "|  [Callback]ModelSummary.on_pretrain_routine_end                                                                                                                                                            \t|  1.625e-06      \t|  1              \t|  1.625e-06      \t|  7.0027e-06     \t|\n",
      "|  [Callback]ModelCheckpoint{'monitor': None, 'mode': 'min', 'every_n_train_steps': 0, 'every_n_epochs': 1, 'train_time_interval': None, 'save_on_train_epoch_end': True}.on_sanity_check_end                \t|  1.625e-06      \t|  1              \t|  1.625e-06      \t|  7.0027e-06     \t|\n",
      "|  [Callback]ModelSummary.on_fit_end                                                                                                                                                                         \t|  1.625e-06      \t|  1              \t|  1.625e-06      \t|  7.0027e-06     \t|\n",
      "|  [Callback]ModelCheckpoint{'monitor': None, 'mode': 'min', 'every_n_train_steps': 0, 'every_n_epochs': 1, 'train_time_interval': None, 'save_on_train_epoch_end': True}.on_pretrain_routine_end            \t|  1.625e-06      \t|  1              \t|  1.625e-06      \t|  7.0025e-06     \t|\n",
      "|  [Callback]ModelCheckpoint{'monitor': None, 'mode': 'min', 'every_n_train_steps': 0, 'every_n_epochs': 1, 'train_time_interval': None, 'save_on_train_epoch_end': True}.on_fit_end                         \t|  1.625e-06      \t|  1              \t|  1.625e-06      \t|  7.0025e-06     \t|\n",
      "|  [Callback]ModelCheckpoint{'monitor': None, 'mode': 'min', 'every_n_train_steps': 0, 'every_n_epochs': 1, 'train_time_interval': None, 'save_on_train_epoch_end': True}.teardown                           \t|  1.625e-06      \t|  1              \t|  1.625e-06      \t|  7.0025e-06     \t|\n",
      "|  [Callback]GradientAccumulationScheduler.on_configure_sharded_model                                                                                                                                        \t|  1.584e-06      \t|  1              \t|  1.584e-06      \t|  6.8259e-06     \t|\n",
      "|  [Callback]GradientAccumulationScheduler.teardown                                                                                                                                                          \t|  1.5839e-06     \t|  1              \t|  1.5839e-06     \t|  6.8256e-06     \t|\n",
      "|  [Callback]GradientAccumulationScheduler.on_before_accelerator_backend_setup                                                                                                                               \t|  1.583e-06      \t|  1              \t|  1.583e-06      \t|  6.8216e-06     \t|\n",
      "|  [Callback]ModelCheckpoint{'monitor': None, 'mode': 'min', 'every_n_train_steps': 0, 'every_n_epochs': 1, 'train_time_interval': None, 'save_on_train_epoch_end': True}.on_pretrain_routine_start          \t|  1.583e-06      \t|  1              \t|  1.583e-06      \t|  6.8216e-06     \t|\n",
      "|  [Callback]ModelCheckpoint{'monitor': None, 'mode': 'min', 'every_n_train_steps': 0, 'every_n_epochs': 1, 'train_time_interval': None, 'save_on_train_epoch_end': True}.on_train_end                       \t|  1.583e-06      \t|  1              \t|  1.583e-06      \t|  6.8216e-06     \t|\n",
      "|  [Callback]GradientAccumulationScheduler.on_sanity_check_end                                                                                                                                               \t|  1.542e-06      \t|  1              \t|  1.542e-06      \t|  6.6448e-06     \t|\n",
      "|  [Callback]ModelSummary.on_configure_sharded_model                                                                                                                                                         \t|  1.541e-06      \t|  1              \t|  1.541e-06      \t|  6.6408e-06     \t|\n",
      "|  [Callback]ModelSummary.on_pretrain_routine_start                                                                                                                                                          \t|  1.541e-06      \t|  1              \t|  1.541e-06      \t|  6.6405e-06     \t|\n",
      "|  [Callback]GradientAccumulationScheduler.on_pretrain_routine_end                                                                                                                                           \t|  1.5e-06        \t|  1              \t|  1.5e-06        \t|  6.4639e-06     \t|\n",
      "|  [Callback]ModelSummary.teardown                                                                                                                                                                           \t|  1.5e-06        \t|  1              \t|  1.5e-06        \t|  6.4637e-06     \t|\n",
      "|  [Callback]GradientAccumulationScheduler.on_pretrain_routine_start                                                                                                                                         \t|  1.459e-06      \t|  1              \t|  1.459e-06      \t|  6.2871e-06     \t|\n",
      "|  [Callback]GradientAccumulationScheduler.on_fit_end                                                                                                                                                        \t|  1.458e-06      \t|  1              \t|  1.458e-06      \t|  6.2828e-06     \t|\n",
      "|  [LightningModule]TwoLayerNet.on_train_epoch_end                                                                                                                                                           \t|  1.417e-06      \t|  1              \t|  1.417e-06      \t|  6.1062e-06     \t|\n",
      "|  [Strategy]SingleDeviceStrategy.on_validation_start                                                                                                                                                        \t|  7.0801e-07     \t|  2              \t|  1.416e-06      \t|  6.102e-06      \t|\n",
      "|  [LightningModule]TwoLayerNet.on_validation_epoch_start                                                                                                                                                    \t|  6.4599e-07     \t|  2              \t|  1.292e-06      \t|  5.5675e-06     \t|\n",
      "|  [LightningModule]TwoLayerNet.on_train_dataloader                                                                                                                                                          \t|  1.167e-06      \t|  1              \t|  1.167e-06      \t|  5.0289e-06     \t|\n",
      "|  [LightningModule]TwoLayerNet.on_val_dataloader                                                                                                                                                            \t|  1.042e-06      \t|  1              \t|  1.042e-06      \t|  4.4901e-06     \t|\n",
      "|  [LightningModule]TwoLayerNet.on_train_start                                                                                                                                                               \t|  1.042e-06      \t|  1              \t|  1.042e-06      \t|  4.4901e-06     \t|\n",
      "|  [LightningModule]TwoLayerNet.on_train_epoch_start                                                                                                                                                         \t|  1e-06          \t|  1              \t|  1e-06          \t|  4.3093e-06     \t|\n",
      "|  [LightningModule]TwoLayerNet.setup                                                                                                                                                                        \t|  9.5798e-07     \t|  1              \t|  9.5798e-07     \t|  4.1282e-06     \t|\n",
      "|  [LightningModule]TwoLayerNet.on_fit_end                                                                                                                                                                   \t|  9.5798e-07     \t|  1              \t|  9.5798e-07     \t|  4.1282e-06     \t|\n",
      "|  [LightningModule]TwoLayerNet.on_save_checkpoint                                                                                                                                                           \t|  9.17e-07       \t|  1              \t|  9.17e-07       \t|  3.9516e-06     \t|\n",
      "|  [Strategy]SingleDeviceStrategy.on_train_start                                                                                                                                                             \t|  8.7498e-07     \t|  1              \t|  8.7498e-07     \t|  3.7705e-06     \t|\n",
      "|  [Strategy]SingleDeviceStrategy.on_train_end                                                                                                                                                               \t|  8.7498e-07     \t|  1              \t|  8.7498e-07     \t|  3.7705e-06     \t|\n",
      "|  [LightningModule]TwoLayerNet.on_train_end                                                                                                                                                                 \t|  8.3301e-07     \t|  1              \t|  8.3301e-07     \t|  3.5897e-06     \t|\n",
      "|  [LightningModule]TwoLayerNet.configure_sharded_model                                                                                                                                                      \t|  7.9098e-07     \t|  1              \t|  7.9098e-07     \t|  3.4086e-06     \t|\n",
      "|  [LightningModule]TwoLayerNet.on_fit_start                                                                                                                                                                 \t|  7.5001e-07     \t|  1              \t|  7.5001e-07     \t|  3.232e-06      \t|\n",
      "|  [LightningModule]TwoLayerNet.teardown                                                                                                                                                                     \t|  7.5001e-07     \t|  1              \t|  7.5001e-07     \t|  3.232e-06      \t|\n",
      "|  [LightningModule]TwoLayerNet.on_pretrain_routine_start                                                                                                                                                    \t|  7.0798e-07     \t|  1              \t|  7.0798e-07     \t|  3.0509e-06     \t|\n",
      "|  [LightningModule]TwoLayerNet.on_pretrain_routine_end                                                                                                                                                      \t|  5e-07          \t|  1              \t|  5e-07          \t|  2.1546e-06     \t|\n",
      "------------------------------------------------------------------------------------------------------------------------------------------------------------------------------------------------------------------------------------------------------------------------------------------------------------------\n",
      "\n"
     ]
    }
   ],
   "source": [
    "trainer = pl.Trainer(\n",
    "    profiler='simple',\n",
    "    max_epochs=1,\n",
    "    # gpus=1 # Use GPU if available\n",
    "   \n",
    ")\n",
    "\n",
    "trainer.fit(model, data)"
   ]
  },
  {
   "cell_type": "markdown",
   "metadata": {},
   "source": [
    "We can see an overview of the time taken for different steps.\n",
    "This  enables us to detect bottlenecks in the model more easily. A bottleneck can be, for example, long times in dataloading. It becomes very important later, especially, when you start to implement custom layers or loss functions."
   ]
  },
  {
   "cell_type": "markdown",
   "metadata": {},
   "source": [
    "### Some more debugging Options\n",
    "\n",
    "* [`fast_dev_run`](https://pytorch-lightning.readthedocs.io/en/latest/trainer.html#fast-dev-run): Runs of batch of each train, validation and test pass (if validation and test datalaoders are passed as arguments).This is a fast way to check if everything works (dataloading, validation metric, model saving/ loading) without having to wait for a full epoch.\n",
    "\n",
    "* [`track_grad_norm`](https://pytorch-lightning.readthedocs.io/en/latest/trainer.html#track-grad-norm): Logs the  norm of the gradients (set to `1` for the $L1$ norm or `2` for the $L2$ norm) for each layer. You can check whether the network is actually doing something. If the gradients are too small or too high, you won't have a good training (due to vanishing/ exploding gradients).\n",
    "\n",
    "\n",
    "### Other Features\n",
    "\n",
    "Finally, we want to mention some other useful options in the Trainer class:\n",
    "\n",
    "* [`resume_from_checkpoint`](https://pytorch-lightning.readthedocs.io/en/latest/trainer.html#resume-from-checkpoint): Start the training from a checkpoint saved earlier. Argument is the path to the saved model file.\n",
    "* [`Callbacks`](https://pytorch-lightning.readthedocs.io/en/latest/callbacks.html#callback): Callbacks are extremely useful system during training that automate non essential code such as  storing model checkpoints , saving weights values among others.\n",
    "\n",
    "Let's have the look at the [`EarlyStopping`](https://pytorch-lightning.readthedocs.io/en/latest/early_stopping.html#early-stopping-based-on-metric-using-the-earlystopping-callback)  callback.\n",
    "\n",
    "It interrupts the training if the `monitor` metric variable does not  improve for `patience` number of epochs.\n",
    "\n",
    "Below is a code example on how to apply it!\n",
    "\n",
    "```python\n",
    "from pytorch_lightning.callbacks.early_stopping import EarlyStopping\n",
    "\n",
    "early_stop_callback = EarlyStopping(\n",
    "   monitor='val_accuracy',\n",
    "   patience=3,\n",
    "   verbose=False,\n",
    "   mode='max'\n",
    ")\n",
    "\n",
    "trainer = Trainer(max_epochs=10,callbacks=[early_stop_callback])\n",
    "```\n",
    "\n",
    "Your journey with pytorch lightning will force you to check out a bunch of callbacks to return the desired functions without having to write the respective code yourself. Or you hack it in, do as you wish :)."
   ]
  },
  {
   "cell_type": "markdown",
   "metadata": {},
   "source": [
    "## References\n",
    "\n",
    "1. PyTorch Lightining [`Source Code`](https://github.com/PyTorchLightning/pytorch-lightning) with a nice introduction \n",
    "2. PyTorch Lightining [`Documentation`](https://pytorch-lightning.readthedocs.io/en/latest/#)  Explore it! The features are very well explained. "
   ]
  }
 ],
 "metadata": {
  "interpreter": {
   "hash": "bbf148f741bdcfda68412a690aa89cb477d7b565ce205d715d0eac6f68c7216c"
  },
  "kernelspec": {
   "display_name": "Python 3 (ipykernel)",
   "language": "python",
   "name": "python3"
  },
  "language_info": {
   "codemirror_mode": {
    "name": "ipython",
    "version": 3
   },
   "file_extension": ".py",
   "mimetype": "text/x-python",
   "name": "python",
   "nbconvert_exporter": "python",
   "pygments_lexer": "ipython3",
   "version": "3.10.4"
  }
 },
 "nbformat": 4,
 "nbformat_minor": 2
}
